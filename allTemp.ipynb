{
 "cells": [
  {
   "cell_type": "code",
   "execution_count": null,
   "metadata": {},
   "outputs": [],
   "source": [
    "'''\n",
    "Line Charts: Show trends over time.\n",
    "Bar Charts: Compare values across categories.\n",
    "Histograms: Display the distribution of a dataset.\n",
    "Scatter Plots: Explore relationships between two variables.\n",
    "Pie Charts: Show parts of a whole.\n",
    "Box Plots: Visualize summary statistics and outliers.\n",
    "Heatmaps: Display a matrix of data using colors.\n",
    "3D Plots: Represent data in three dimensions.\n",
    "Violin Plots: Combine aspects of box plots and kernel density plots.\n",
    "Choropleth Maps: Display data variation across geographic regions.\n",
    "'''"
   ]
  },
  {
   "cell_type": "code",
   "execution_count": null,
   "metadata": {},
   "outputs": [],
   "source": [
    "import pandas as pd\n",
    "import numpy as np\n",
    "\n",
    "# Create a random scenario and generate CSV data\n",
    "np.random.seed(42)\n",
    "\n",
    "months = ['January', 'February', 'March', 'April', 'May', 'June', 'July', 'August', 'September', 'October', 'November', 'December']\n",
    "\n",
    "data = {\n",
    "    'Month': months,\n",
    "    'Sales': np.random.randint(50000, 100000, size=len(months)),\n",
    "    'Expenses': np.random.randint(20000, 50000, size=len(months)),\n",
    "    'Profit': [],\n",
    "    'Customer_Satisfaction': np.random.uniform(4.0, 5.0, size=len(months))\n",
    "}\n",
    "\n",
    "# Calculate profit as the difference between sales and expenses\n",
    "data['Profit'] = data['Sales'] - data['Expenses']\n",
    "\n",
    "# Create a DataFrame and save it to a CSV file\n",
    "df = pd.DataFrame(data)\n",
    "df.to_csv('ecommerce_data.csv', index=False)\n"
   ]
  },
  {
   "cell_type": "code",
   "execution_count": null,
   "metadata": {},
   "outputs": [],
   "source": [
    "import pandas as pd\n",
    "import matplotlib.pyplot as plt\n",
    "import seaborn as sns"
   ]
  },
  {
   "cell_type": "code",
   "execution_count": null,
   "metadata": {},
   "outputs": [],
   "source": [
    "# Load CSV data into a DataFrame\n",
    "df = pd.read_csv('ecommerce_data.csv')\n",
    "\n",
    "# Line Chart: Show trends over time (e.g., Sales and Expenses)\n",
    "plt.figure(figsize=(10, 6))\n",
    "plt.plot(df['Month'], df['Sales'], label='Sales', marker='o')\n",
    "plt.plot(df['Month'], df['Expenses'], label='Expenses', marker='o')\n",
    "plt.title('Monthly Sales and Expenses Trends')\n",
    "plt.xlabel('Month')\n",
    "plt.ylabel('Amount ($)')\n",
    "plt.legend()\n",
    "plt.show()"
   ]
  },
  {
   "cell_type": "code",
   "execution_count": null,
   "metadata": {},
   "outputs": [],
   "source": [
    "# Bar Chart: Compare values across categories (e.g., Profit)\n",
    "plt.figure(figsize=(10, 6))\n",
    "sns.barplot(x='Month', y='Profit', data=df)\n",
    "plt.title('Monthly Profit Comparison')\n",
    "plt.xlabel('Month')\n",
    "plt.ylabel('Profit ($)')\n",
    "plt.show()"
   ]
  },
  {
   "cell_type": "code",
   "execution_count": null,
   "metadata": {},
   "outputs": [],
   "source": [
    "# Histogram: Display the distribution of a dataset (e.g., Customer Satisfaction)\n",
    "plt.figure(figsize=(8, 5))\n",
    "plt.hist(df['Customer_Satisfaction'], bins=10, edgecolor='black')\n",
    "plt.title('Distribution of Customer Satisfaction Scores')\n",
    "plt.xlabel('Customer Satisfaction Score')\n",
    "plt.ylabel('Frequency')\n",
    "plt.show()"
   ]
  },
  {
   "cell_type": "code",
   "execution_count": null,
   "metadata": {},
   "outputs": [],
   "source": [
    "# Scatter Plot: Explore relationships between two variables (e.g., Sales vs. Customer Satisfaction)\n",
    "plt.figure(figsize=(8, 5))\n",
    "plt.scatter(df['Sales'], df['Customer_Satisfaction'])\n",
    "plt.title('Relationship between Sales and Customer Satisfaction')\n",
    "plt.xlabel('Sales ($)')\n",
    "plt.ylabel('Customer Satisfaction Score')\n",
    "plt.show()"
   ]
  },
  {
   "cell_type": "code",
   "execution_count": null,
   "metadata": {},
   "outputs": [],
   "source": [
    "# Pie Chart: Show parts of a whole (e.g., Expenses as a percentage of Sales)\n",
    "plt.figure(figsize=(8, 8))\n",
    "plt.pie(df['Expenses'], labels=df['Month'], autopct='%1.1f%%', startangle=90)\n",
    "plt.title('Monthly Expenses as a Percentage of Sales')\n",
    "plt.show()"
   ]
  },
  {
   "cell_type": "code",
   "execution_count": null,
   "metadata": {},
   "outputs": [],
   "source": [
    "# Box Plot: Visualize summary statistics and outliers (e.g., Profit)\n",
    "plt.figure(figsize=(8, 5))\n",
    "sns.boxplot(x='Profit', data=df)\n",
    "plt.title('Box Plot of Monthly Profit')\n",
    "plt.xlabel('Profit ($)')\n",
    "plt.show()\n"
   ]
  },
  {
   "cell_type": "code",
   "execution_count": null,
   "metadata": {},
   "outputs": [],
   "source": [
    "# Heatmap: Display a matrix of data using colors (e.g., Correlation matrix)\n",
    "correlation_matrix = df.corr()\n",
    "plt.figure(figsize=(8, 6))\n",
    "sns.heatmap(correlation_matrix, annot=True, cmap='coolwarm')\n",
    "plt.title('Correlation Matrix')\n",
    "plt.show()"
   ]
  },
  {
   "cell_type": "code",
   "execution_count": null,
   "metadata": {},
   "outputs": [],
   "source": [
    "# 3D Plot: Represent data in three dimensions (e.g., Sales, Expenses, Profit)\n",
    "from mpl_toolkits.mplot3d import Axes3D\n",
    "\n",
    "fig = plt.figure(figsize=(10, 8))\n",
    "ax = fig.add_subplot(111, projection='3d')\n",
    "ax.scatter(df['Sales'], df['Expenses'], df['Profit'], c='blue', marker='o')\n",
    "ax.set_xlabel('Sales ($)')\n",
    "ax.set_ylabel('Expenses ($)')\n",
    "ax.set_zlabel('Profit ($)')\n",
    "plt.title('3D Scatter Plot of Sales, Expenses, and Profit')\n",
    "plt.show()"
   ]
  },
  {
   "cell_type": "code",
   "execution_count": null,
   "metadata": {},
   "outputs": [],
   "source": [
    "# Violin Plot: Combine aspects of box plots and kernel density plots (e.g., Customer Satisfaction)\n",
    "plt.figure(figsize=(8, 5))\n",
    "sns.violinplot(x='Customer_Satisfaction', data=df)\n",
    "plt.title('Violin Plot of Customer Satisfaction Scores')\n",
    "plt.xlabel('Customer Satisfaction Score')\n",
    "plt.show()"
   ]
  },
  {
   "cell_type": "code",
   "execution_count": null,
   "metadata": {},
   "outputs": [],
   "source": [
    "# Choropleth Map: Display data variation across geographic regions (not applicable in this scenario)\n",
    "# Choropleth maps are used for geographical data, and our dataset does not include geographic information."
   ]
  }
 ],
 "metadata": {
  "language_info": {
   "name": "python"
  }
 },
 "nbformat": 4,
 "nbformat_minor": 2
}
